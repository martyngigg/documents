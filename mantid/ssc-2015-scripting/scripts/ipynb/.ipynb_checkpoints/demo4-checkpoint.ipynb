{
 "metadata": {
  "name": ""
 },
 "nbformat": 3,
 "nbformat_minor": 0,
 "worksheets": [
  {
   "cells": [
    {
     "cell_type": "code",
     "collapsed": false,
     "input": [
      "# Import Mantid framework\n",
      "from mantid.simpleapi import *"
     ],
     "language": "python",
     "metadata": {},
     "outputs": [],
     "prompt_number": 2
    },
    {
     "cell_type": "markdown",
     "metadata": {},
     "source": [
      "You can annotate parts of the notebook with text that is not interpreted as code"
     ]
    },
    {
     "cell_type": "code",
     "collapsed": false,
     "input": [],
     "language": "python",
     "metadata": {},
     "outputs": [],
     "prompt_number": 2
    },
    {
     "cell_type": "code",
     "collapsed": false,
     "input": [
      "# Import matplotlib's pyplot interface under the name 'plt'\n",
      "from matplotlib.pyplot import *\n",
      "\n",
      "# Tell matplotlib to use inline figures (not their own window)\n",
      "%matplotlib inline"
     ],
     "language": "python",
     "metadata": {},
     "outputs": [],
     "prompt_number": 3
    },
    {
     "cell_type": "markdown",
     "metadata": {},
     "source": [
      "###Script Variables"
     ]
    },
    {
     "cell_type": "code",
     "collapsed": false,
     "input": [
      "inst_prefix=\"HRP\"\n",
      "vanadium_run=39191\n",
      "vanadium_peaks=[(19970,20140), (39970,40140),(59970,60140),(79970,80140),(99970,100140)]\n",
      "calib_file=\"hrpd_new_072_01_corr.cal\"\n"
     ],
     "language": "python",
     "metadata": {},
     "outputs": [],
     "prompt_number": 4
    },
    {
     "cell_type": "markdown",
     "metadata": {},
     "source": [
      "###Reduction"
     ]
    },
    {
     "cell_type": "code",
     "collapsed": false,
     "input": [
      "# Load + mask peaks\n",
      "vanadium = Load(Filename=inst_prefix + str(vanadium_run) + \".RAW\")\n",
      "for xmin, xmax in vanadium_peaks:\n",
      "    vanadium = MaskBins(Inputworkspace=vanadium, XMin=xmin, XMax=xmax)\n",
      "\n",
      "# Align & normalise\n",
      "vanadium = AlignDetectors(InputWorkspace=vanadium,CalibrationFile=calib_file)\n",
      "vanadium = NormaliseByCurrent(InputWorkspace=vanadium)\n",
      "\n",
      "# Correct for solid angle\n",
      "van_solid_angle = SolidAngle(InputWorkspace=vanadium)\n",
      "vanadium = Divide(LHSWorkspace=vanadium, RHSWorkspace=van_solid_angle)\n",
      "\n",
      "# Focus\n",
      "vanadium = ConvertUnits(InputWorkspace=vanadium,Target=\"dSpacing\")\n",
      "vanadium = DiffractionFocussing(InputWorkspace=vanadium,GroupingFileName=calib_file)"
     ],
     "language": "python",
     "metadata": {},
     "outputs": [],
     "prompt_number": 5
    },
    {
     "cell_type": "markdown",
     "metadata": {},
     "source": [
      "###Plotting"
     ]
    },
    {
     "cell_type": "code",
     "collapsed": false,
     "input": [
      "# Plot\n",
      "x0 = vanadium.readX(0)\n",
      "x0pts = 0.5*(x0[1:] + x0[:-1])\n",
      "x1 = vanadium.readX(1)\n",
      "x1pts = 0.5*(x1[1:] + x1[:-1])\n",
      "x2 = vanadium.readX(2)\n",
      "x2pts = 0.5*(x2[1:] + x2[:-1])\n",
      "plot(x0pts, vanadium.readY(0), 'k-', label=\"vanadium-sp-1\")\n",
      "plot(x1pts, vanadium.readY(1), 'r-', label=\"vanadium-sp-2\")\n",
      "plot(x2pts, vanadium.readY(2), 'g-', label=\"vanadium-sp-3\")\n",
      "title(\"Focussed HRPD Vanadium (Run %d)\" % vanadium_run)\n",
      "grid('on')\n",
      "xlim(0,5)\n",
      "yscale('log')\n",
      "legend()\n",
      "show()\n"
     ],
     "language": "python",
     "metadata": {},
     "outputs": [
      {
       "ename": "NameError",
       "evalue": "name 'plot' is not defined",
       "output_type": "pyerr",
       "traceback": [
        "\u001b[0;31m---------------------------------------------------------------------------\u001b[0m\n\u001b[0;31mNameError\u001b[0m                                 Traceback (most recent call last)",
        "\u001b[0;32m<ipython-input-6-315e2a05e816>\u001b[0m in \u001b[0;36m<module>\u001b[0;34m()\u001b[0m\n\u001b[1;32m      6\u001b[0m \u001b[0mx2\u001b[0m \u001b[0;34m=\u001b[0m \u001b[0mvanadium\u001b[0m\u001b[0;34m.\u001b[0m\u001b[0mreadX\u001b[0m\u001b[0;34m(\u001b[0m\u001b[0;36m2\u001b[0m\u001b[0;34m)\u001b[0m\u001b[0;34m\u001b[0m\u001b[0m\n\u001b[1;32m      7\u001b[0m \u001b[0mx2pts\u001b[0m \u001b[0;34m=\u001b[0m \u001b[0;36m0.5\u001b[0m\u001b[0;34m*\u001b[0m\u001b[0;34m(\u001b[0m\u001b[0mx2\u001b[0m\u001b[0;34m[\u001b[0m\u001b[0;36m1\u001b[0m\u001b[0;34m:\u001b[0m\u001b[0;34m]\u001b[0m \u001b[0;34m+\u001b[0m \u001b[0mx2\u001b[0m\u001b[0;34m[\u001b[0m\u001b[0;34m:\u001b[0m\u001b[0;34m-\u001b[0m\u001b[0;36m1\u001b[0m\u001b[0;34m]\u001b[0m\u001b[0;34m)\u001b[0m\u001b[0;34m\u001b[0m\u001b[0m\n\u001b[0;32m----> 8\u001b[0;31m \u001b[0mplot\u001b[0m\u001b[0;34m(\u001b[0m\u001b[0mx0pts\u001b[0m\u001b[0;34m,\u001b[0m \u001b[0mvanadium\u001b[0m\u001b[0;34m.\u001b[0m\u001b[0mreadY\u001b[0m\u001b[0;34m(\u001b[0m\u001b[0;36m0\u001b[0m\u001b[0;34m)\u001b[0m\u001b[0;34m,\u001b[0m \u001b[0;34m'k-'\u001b[0m\u001b[0;34m,\u001b[0m \u001b[0mlabel\u001b[0m\u001b[0;34m=\u001b[0m\u001b[0;34m\"vanadium-sp-1\"\u001b[0m\u001b[0;34m)\u001b[0m\u001b[0;34m\u001b[0m\u001b[0m\n\u001b[0m\u001b[1;32m      9\u001b[0m \u001b[0mplot\u001b[0m\u001b[0;34m(\u001b[0m\u001b[0mx1pts\u001b[0m\u001b[0;34m,\u001b[0m \u001b[0mvanadium\u001b[0m\u001b[0;34m.\u001b[0m\u001b[0mreadY\u001b[0m\u001b[0;34m(\u001b[0m\u001b[0;36m1\u001b[0m\u001b[0;34m)\u001b[0m\u001b[0;34m,\u001b[0m \u001b[0;34m'r-'\u001b[0m\u001b[0;34m,\u001b[0m \u001b[0mlabel\u001b[0m\u001b[0;34m=\u001b[0m\u001b[0;34m\"vanadium-sp-2\"\u001b[0m\u001b[0;34m)\u001b[0m\u001b[0;34m\u001b[0m\u001b[0m\n\u001b[1;32m     10\u001b[0m \u001b[0mplot\u001b[0m\u001b[0;34m(\u001b[0m\u001b[0mx2pts\u001b[0m\u001b[0;34m,\u001b[0m \u001b[0mvanadium\u001b[0m\u001b[0;34m.\u001b[0m\u001b[0mreadY\u001b[0m\u001b[0;34m(\u001b[0m\u001b[0;36m2\u001b[0m\u001b[0;34m)\u001b[0m\u001b[0;34m,\u001b[0m \u001b[0;34m'g-'\u001b[0m\u001b[0;34m,\u001b[0m \u001b[0mlabel\u001b[0m\u001b[0;34m=\u001b[0m\u001b[0;34m\"vanadium-sp-3\"\u001b[0m\u001b[0;34m)\u001b[0m\u001b[0;34m\u001b[0m\u001b[0m\n",
        "\u001b[0;31mNameError\u001b[0m: name 'plot' is not defined"
       ]
      }
     ],
     "prompt_number": 6
    },
    {
     "cell_type": "code",
     "collapsed": false,
     "input": [],
     "language": "python",
     "metadata": {},
     "outputs": []
    }
   ],
   "metadata": {}
  }
 ]
}